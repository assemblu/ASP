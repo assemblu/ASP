{
 "cells": [
  {
   "cell_type": "code",
   "execution_count": 4,
   "metadata": {},
   "outputs": [],
   "source": [
    "# Author: Emirhan Gocturk\n",
    "# dependencies\n",
    "import numpy as np\n",
    "import matplotlib.pyplot as plt\n",
    "from scipy import signal\n",
    "import scipy\n",
    "import copy"
   ]
  },
  {
   "cell_type": "code",
   "execution_count": 1,
   "metadata": {},
   "outputs": [],
   "source": [
    "# FIR filter based on firls function\n",
    "samplingRate = 48000 #Hz\n",
    "nyquist = samplingRate/2\n",
    "frange = [20, 45]\n",
    "transitionWidth = .1 #10 percent\n",
    "order = int(5*samplingRate/frange[0])\n"
   ]
  },
  {
   "cell_type": "code",
   "execution_count": null,
   "metadata": {},
   "outputs": [],
   "source": [
    "# Filter is applied here\n",
    "\n",
    "# order range\n",
    "ordersF = (1*samplingRate/frange[0]) / (samplingRate/1000)\n",
    "ordersL = (15*samplingRate/frange[0]) / (samplingRate/1000)\n",
    "\n",
    "orders = np.round(np.linspace(ordersF, ordersL, 10))\n"
   ]
  }
 ],
 "metadata": {
  "kernelspec": {
   "display_name": "Python 3",
   "language": "python",
   "name": "python3"
  },
  "language_info": {
   "codemirror_mode": {
    "name": "ipython",
    "version": 3
   },
   "file_extension": ".py",
   "mimetype": "text/x-python",
   "name": "python",
   "nbconvert_exporter": "python",
   "pygments_lexer": "ipython3",
   "version": "3.8.5"
  }
 },
 "nbformat": 4,
 "nbformat_minor": 4
}
